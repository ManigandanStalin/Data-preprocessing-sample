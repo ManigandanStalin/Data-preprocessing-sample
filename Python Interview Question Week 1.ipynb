{
 "cells": [
  {
   "cell_type": "code",
   "execution_count": 2,
   "id": "7531b5ed",
   "metadata": {},
   "outputs": [
    {
     "name": "stdout",
     "output_type": "stream",
     "text": [
      "Value of Pi::  3.14\n",
      "Diameter::  3\n"
     ]
    }
   ],
   "source": [
    "# 1. How do we create numerical variables in python?\n",
    "pi=3.14\n",
    "dia=3\n",
    "print('Value of Pi:: ', pi)\n",
    "print('Diameter:: ', dia)"
   ]
  },
  {
   "cell_type": "code",
   "execution_count": 5,
   "id": "4299bb0b",
   "metadata": {},
   "outputs": [
    {
     "name": "stdout",
     "output_type": "stream",
     "text": [
      "Radius::  1.5\n",
      "Area Of circle::  7.0649999999999995\n"
     ]
    }
   ],
   "source": [
    "## How do we perform calculations in python?\n",
    "dia=3\n",
    "pi=3.14\n",
    "rad=dia/2\n",
    "area=pi * rad * rad\n",
    "print('Radius:: ',rad )\n",
    "print('Area Of circle:: ', area )"
   ]
  },
  {
   "cell_type": "code",
   "execution_count": 10,
   "id": "620e4ee6",
   "metadata": {},
   "outputs": [
    {
     "name": "stdout",
     "output_type": "stream",
     "text": [
      "The output is::  0\n"
     ]
    }
   ],
   "source": [
    "## Give an example of BODMAS in python?\n",
    "a=(8-3)*(2-(1 + 1))\n",
    "print('The output is:: ',a)"
   ]
  },
  {
   "cell_type": "code",
   "execution_count": 11,
   "id": "ea693740",
   "metadata": {},
   "outputs": [
    {
     "data": {
      "text/plain": [
       "3"
      ]
     },
     "execution_count": 11,
     "metadata": {},
     "output_type": "execute_result"
    }
   ],
   "source": [
    "## Give examples of list?\n",
    "a = [1, 2, 3]\n",
    "len(a)"
   ]
  },
  {
   "cell_type": "code",
   "execution_count": 13,
   "id": "f9cfb2cd",
   "metadata": {},
   "outputs": [
    {
     "name": "stdout",
     "output_type": "stream",
     "text": [
      "[3, 2, 1] [1, 2, 3]\n"
     ]
    }
   ],
   "source": [
    "##  How do we interchange the values of two lists?\n",
    "a = [1, 2, 3]\n",
    "b = [3, 2, 1]\n",
    "a,b=b,a\n",
    "print(a,b)"
   ]
  },
  {
   "cell_type": "code",
   "execution_count": 16,
   "id": "336588c1",
   "metadata": {},
   "outputs": [
    {
     "name": "stdout",
     "output_type": "stream",
     "text": [
      "Mario\n",
      "Luigi\n"
     ]
    }
   ],
   "source": [
    "## How do we extract values from list?\n",
    "r = ['Mario', 'Bowser', 'Luigi']\n",
    "print(r[0])\n",
    "print(r[-1])"
   ]
  },
  {
   "cell_type": "code",
   "execution_count": null,
   "id": "5a877a09",
   "metadata": {},
   "outputs": [],
   "source": [
    "## How we create loops in python using list?\n",
    "## The following code returns the numbers from a list that are more than the threshold\n",
    "## def elementwise_greater_than(L, thresh):\n",
    "# res = []\n",
    "# for ele in L:\n",
    "# if ele > thresh: res.append()\n",
    "# return res\n",
    "# elementwise_greater_than([1, 2, 3, 4], 2)\n",
    "# The output is [3, 4]\n",
    "\n"
   ]
  }
 ],
 "metadata": {
  "kernelspec": {
   "display_name": "Python 3",
   "language": "python",
   "name": "python3"
  },
  "language_info": {
   "codemirror_mode": {
    "name": "ipython",
    "version": 3
   },
   "file_extension": ".py",
   "mimetype": "text/x-python",
   "name": "python",
   "nbconvert_exporter": "python",
   "pygments_lexer": "ipython3",
   "version": "3.8.8"
  }
 },
 "nbformat": 4,
 "nbformat_minor": 5
}
