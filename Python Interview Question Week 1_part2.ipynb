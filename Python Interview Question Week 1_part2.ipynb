{
 "cells": [
  {
   "cell_type": "code",
   "execution_count": 2,
   "id": "7531b5ed",
   "metadata": {},
   "outputs": [
    {
     "name": "stdout",
     "output_type": "stream",
     "text": [
      "Value of Pi::  3.14\n",
      "Diameter::  3\n"
     ]
    }
   ],
   "source": [
    "# 1. How do we create numerical variables in python?\n",
    "pi=3.14\n",
    "dia=3\n",
    "print('Value of Pi:: ', pi)\n",
    "print('Diameter:: ', dia)"
   ]
  },
  {
   "cell_type": "code",
   "execution_count": 5,
   "id": "4299bb0b",
   "metadata": {},
   "outputs": [
    {
     "name": "stdout",
     "output_type": "stream",
     "text": [
      "Radius::  1.5\n",
      "Area Of circle::  7.0649999999999995\n"
     ]
    }
   ],
   "source": [
    "## How do we perform calculations in python?\n",
    "dia=3\n",
    "pi=3.14\n",
    "rad=dia/2\n",
    "area=pi * rad * rad\n",
    "print('Radius:: ',rad )\n",
    "print('Area Of circle:: ', area )"
   ]
  },
  {
   "cell_type": "code",
   "execution_count": 10,
   "id": "620e4ee6",
   "metadata": {},
   "outputs": [
    {
     "name": "stdout",
     "output_type": "stream",
     "text": [
      "The output is::  0\n"
     ]
    }
   ],
   "source": [
    "## Give an example of BODMAS in python?\n",
    "a=(8-3)*(2-(1 + 1))\n",
    "print('The output is:: ',a)"
   ]
  },
  {
   "cell_type": "code",
   "execution_count": 11,
   "id": "ea693740",
   "metadata": {},
   "outputs": [
    {
     "data": {
      "text/plain": [
       "3"
      ]
     },
     "execution_count": 11,
     "metadata": {},
     "output_type": "execute_result"
    }
   ],
   "source": [
    "## Give examples of list?\n",
    "a = [1, 2, 3]\n",
    "len(a)"
   ]
  },
  {
   "cell_type": "code",
   "execution_count": 13,
   "id": "f9cfb2cd",
   "metadata": {},
   "outputs": [
    {
     "name": "stdout",
     "output_type": "stream",
     "text": [
      "[3, 2, 1] [1, 2, 3]\n"
     ]
    }
   ],
   "source": [
    "##  How do we interchange the values of two lists?\n",
    "a = [1, 2, 3]\n",
    "b = [3, 2, 1]\n",
    "a,b=b,a\n",
    "print(a,b)"
   ]
  },
  {
   "cell_type": "code",
   "execution_count": 16,
   "id": "336588c1",
   "metadata": {},
   "outputs": [
    {
     "name": "stdout",
     "output_type": "stream",
     "text": [
      "Mario\n",
      "Luigi\n"
     ]
    }
   ],
   "source": [
    "## How do we extract values from list?\n",
    "r = ['Mario', 'Bowser', 'Luigi']\n",
    "print(r[0])\n",
    "print(r[-1])"
   ]
  },
  {
   "cell_type": "code",
   "execution_count": 24,
   "id": "5a877a09",
   "metadata": {},
   "outputs": [
    {
     "name": "stdout",
     "output_type": "stream",
     "text": [
      "[20, 40]\n"
     ]
    }
   ],
   "source": [
    "## How we create loops in python using list?\n",
    "#  that are more than the threshold\n",
    "\n",
    "l=[1,20,3,40,5,6]\n",
    "res=[]\n",
    "thres=10\n",
    "for i in l:\n",
    "    if(i>thres):\n",
    "        res.append(i)\n",
    "print(res)\n",
    "\n"
   ]
  },
  {
   "cell_type": "code",
   "execution_count": 27,
   "id": "2871760b",
   "metadata": {},
   "outputs": [
    {
     "name": "stdout",
     "output_type": "stream",
     "text": [
      "Star Biriyani \\][\\] 19\n",
      "Anthing that are decleared in quots is a string\n"
     ]
    }
   ],
   "source": [
    "## 8. Give examples of String?\n",
    "a='Star Biriyani \\][\\]' # example of string\n",
    "print(a,len(a))\n",
    "b='Anthing that are decleared in quots is a string'\n",
    "print(b)"
   ]
  },
  {
   "cell_type": "code",
   "execution_count": 30,
   "id": "9236a140",
   "metadata": {},
   "outputs": [
    {
     "name": "stdout",
     "output_type": "stream",
     "text": [
      "False\n",
      "True\n"
     ]
    }
   ],
   "source": [
    " ## Give an example of Boolean?\n",
    "a=10\n",
    "print(a<5)\n",
    "print(a>5)"
   ]
  },
  {
   "cell_type": "code",
   "execution_count": 98,
   "id": "ef5b5705",
   "metadata": {},
   "outputs": [
    {
     "name": "stdout",
     "output_type": "stream",
     "text": [
      "10\n",
      "5\n"
     ]
    }
   ],
   "source": [
    " ## How do we perform operations on Boolean?\n",
    "a=10\n",
    "b=5\n",
    "print(a or b)\n",
    "print(a and b)"
   ]
  },
  {
   "cell_type": "code",
   "execution_count": null,
   "id": "d7f38234",
   "metadata": {},
   "outputs": [],
   "source": []
  },
  {
   "cell_type": "code",
   "execution_count": 41,
   "id": "29b1ad55",
   "metadata": {},
   "outputs": [],
   "source": [
    "## What are function in python?\n",
    "## functions are user defined and bulit in \n",
    "## user can define a fn with def keyword \n",
    "## eg:\n",
    "def sumi(a,b):\n",
    "    c=a+b\n",
    "    return c"
   ]
  },
  {
   "cell_type": "code",
   "execution_count": 42,
   "id": "ddee06c7",
   "metadata": {},
   "outputs": [
    {
     "data": {
      "text/plain": [
       "15"
      ]
     },
     "execution_count": 42,
     "metadata": {},
     "output_type": "execute_result"
    }
   ],
   "source": [
    "sumi(5,10)"
   ]
  },
  {
   "cell_type": "code",
   "execution_count": 43,
   "id": "b6b68786",
   "metadata": {},
   "outputs": [
    {
     "name": "stdout",
     "output_type": "stream",
     "text": [
      "1\n"
     ]
    }
   ],
   "source": [
    "##Calculating remainder in python?\n",
    "## mod is used to find reminder \n",
    "a=10\n",
    "b=3\n",
    "c=a%b\n",
    "print(c)"
   ]
  },
  {
   "cell_type": "code",
   "execution_count": 47,
   "id": "ddc770e3",
   "metadata": {},
   "outputs": [
    {
     "data": {
      "text/plain": [
       "13"
      ]
     },
     "execution_count": 47,
     "metadata": {},
     "output_type": "execute_result"
    }
   ],
   "source": [
    "## What is lambda in Python?\n",
    "## lambda is a used to create a single line function. eg\n",
    "sumib=lambda x,y: x+y\n",
    "sumib(8,5) # fn call"
   ]
  },
  {
   "cell_type": "code",
   "execution_count": 49,
   "id": "ddde9a6c",
   "metadata": {},
   "outputs": [],
   "source": [
    "## What is pass in Python?\n",
    "## pass is skip in the python which do nothing in statement \n",
    "# eg\n",
    "l=[1,2,3,5,4]\n",
    "for i in l:\n",
    "    pass"
   ]
  },
  {
   "cell_type": "code",
   "execution_count": 53,
   "id": "f8d127c2",
   "metadata": {},
   "outputs": [
    {
     "data": {
      "text/plain": [
       "[1, 3, 4]"
      ]
     },
     "execution_count": 53,
     "metadata": {},
     "output_type": "execute_result"
    }
   ],
   "source": [
    "#  What is slicing?\n",
    "l=[1,2,3,5,4]\n",
    "l[0::2]"
   ]
  },
  {
   "cell_type": "code",
   "execution_count": 56,
   "id": "250f6082",
   "metadata": {},
   "outputs": [
    {
     "data": {
      "text/plain": [
       "[4, 3, 1]"
      ]
     },
     "execution_count": 56,
     "metadata": {},
     "output_type": "execute_result"
    }
   ],
   "source": [
    "## What is negative index in Python?\n",
    "l=[1,2,3,5,4]\n",
    "l[-1::-2]"
   ]
  },
  {
   "cell_type": "code",
   "execution_count": 76,
   "id": "e808b82e",
   "metadata": {},
   "outputs": [
    {
     "name": "stdout",
     "output_type": "stream",
     "text": [
      "<class 'str'>\n",
      "5\n"
     ]
    }
   ],
   "source": [
    "## How you can convert a number to a string?\n",
    "a=str(5)\n",
    "print(type(a))\n",
    "print(a)"
   ]
  },
  {
   "cell_type": "code",
   "execution_count": 89,
   "id": "5872b382",
   "metadata": {},
   "outputs": [
    {
     "name": "stdout",
     "output_type": "stream",
     "text": [
      "[4, 3, 2, 1] [1, 2, 3, 4] []\n"
     ]
    }
   ],
   "source": [
    "a=[1,2,3,4]\n",
    "b=[4,3,2,1]\n",
    "c=[]\n",
    "\n",
    "for i in a:\n",
    "    c.append(i)\n",
    "a.clear()\n",
    "for i in b:\n",
    "    a.append(i)\n",
    "b.clear()\n",
    "for i in c:\n",
    "    b.append(i)\n",
    "c.clear()\n",
    "print(a,b,c)"
   ]
  },
  {
   "cell_type": "code",
   "execution_count": 91,
   "id": "8c25767f",
   "metadata": {},
   "outputs": [
    {
     "name": "stdout",
     "output_type": "stream",
     "text": [
      "[0, 1, 2, 3, 4, 5, 6]\n"
     ]
    }
   ],
   "source": [
    "##What is range function?\n",
    "##used to get values till a range \n",
    "a=[]\n",
    "for i in range (0,7):\n",
    "    a.append(i)\n",
    "print(a)"
   ]
  },
  {
   "cell_type": "code",
   "execution_count": 92,
   "id": "c9fe8d18",
   "metadata": {},
   "outputs": [],
   "source": [
    "## How do you generate random numbers in Python?\n",
    "import numpy as np"
   ]
  },
  {
   "cell_type": "code",
   "execution_count": 95,
   "id": "64e7b615",
   "metadata": {},
   "outputs": [
    {
     "data": {
      "text/plain": [
       "array([0.54053925, 0.70859433, 0.63426374, 0.45884566, 0.82525353,\n",
       "       0.09978873])"
      ]
     },
     "execution_count": 95,
     "metadata": {},
     "output_type": "execute_result"
    }
   ],
   "source": [
    "np.random.random(6)"
   ]
  },
  {
   "cell_type": "code",
   "execution_count": 96,
   "id": "b93d44f3",
   "metadata": {},
   "outputs": [
    {
     "name": "stdout",
     "output_type": "stream",
     "text": [
      "9.75\n",
      "9\n"
     ]
    }
   ],
   "source": [
    "## What is the difference between / and // operator in Python?\n",
    "print(78/8)\n",
    "print(78//8)"
   ]
  },
  {
   "cell_type": "code",
   "execution_count": 97,
   "id": "df786069",
   "metadata": {},
   "outputs": [
    {
     "name": "stdout",
     "output_type": "stream",
     "text": [
      "Enter the stringMaigugaibac asuicbiab  ais\n"
     ]
    },
    {
     "data": {
      "text/plain": [
       "['Maigugaibac', 'asuicbiab', 'ais']"
      ]
     },
     "execution_count": 97,
     "metadata": {},
     "output_type": "execute_result"
    }
   ],
   "source": [
    "## What is the use of the split function in Python?\n",
    "## used to sperate a string and give o/p as list\n",
    "a=input('Enter the string')\n",
    "a.split()\n"
   ]
  },
  {
   "cell_type": "code",
   "execution_count": null,
   "id": "fc32e127",
   "metadata": {},
   "outputs": [],
   "source": []
  }
 ],
 "metadata": {
  "kernelspec": {
   "display_name": "Python 3",
   "language": "python",
   "name": "python3"
  },
  "language_info": {
   "codemirror_mode": {
    "name": "ipython",
    "version": 3
   },
   "file_extension": ".py",
   "mimetype": "text/x-python",
   "name": "python",
   "nbconvert_exporter": "python",
   "pygments_lexer": "ipython3",
   "version": "3.8.8"
  }
 },
 "nbformat": 4,
 "nbformat_minor": 5
}
